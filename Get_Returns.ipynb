{
  "nbformat": 4,
  "nbformat_minor": 0,
  "metadata": {
    "colab": {
      "name": "Get_Adjsuted_Close.ipynb",
      "provenance": [],
      "collapsed_sections": [],
      "authorship_tag": "ABX9TyOQw34eeYFnF926kjKa03x7",
      "include_colab_link": true
    },
    "kernelspec": {
      "name": "python3",
      "display_name": "Python 3"
    }
  },
  "cells": [
    {
      "cell_type": "markdown",
      "metadata": {
        "id": "view-in-github",
        "colab_type": "text"
      },
      "source": [
        "<a href=\"https://colab.research.google.com/github/DenisBecker/Markowitz-Portfolio/blob/main/Get_Adjsuted_Close.ipynb\" target=\"_parent\"><img src=\"https://colab.research.google.com/assets/colab-badge.svg\" alt=\"Open In Colab\"/></a>"
      ]
    },
    {
      "cell_type": "markdown",
      "metadata": {
        "id": "pKv96-_HXCoZ"
      },
      "source": [
        "# Downloading Stock Data and Saving a CSV\r\n"
      ]
    },
    {
      "cell_type": "markdown",
      "metadata": {
        "id": "Z7olY0XYXAKa"
      },
      "source": [
        "First we will load all the necessary packages."
      ]
    },
    {
      "cell_type": "code",
      "metadata": {
        "id": "BS2P2ct5Whuh"
      },
      "source": [
        "import pandas as pd\r\n",
        "from pandas_datareader import data as pdr\r\n",
        "import datetime as dt"
      ],
      "execution_count": 1,
      "outputs": []
    },
    {
      "cell_type": "markdown",
      "metadata": {
        "id": "00PZOyXZcBfs"
      },
      "source": [
        "The following library is added to be able to download the csv from the colab environment.\r\n",
        "It is not required if you run thePythion code on your machine."
      ]
    },
    {
      "cell_type": "code",
      "metadata": {
        "id": "QelRG3-tcRYK"
      },
      "source": [
        "from google.colab import files"
      ],
      "execution_count": 2,
      "outputs": []
    },
    {
      "cell_type": "markdown",
      "metadata": {
        "id": "4n8mWSveWv4t"
      },
      "source": [
        "In what follows we will specify the time interval for which we want to download the financial data.\r\n",
        "\r\n",
        "**Alternative 1:**\r\n",
        "\r\n"
      ]
    },
    {
      "cell_type": "code",
      "metadata": {
        "id": "U06A4jrTXZbJ"
      },
      "source": [
        "start='2015-1-1'\r\n",
        "end='2020-12-4'"
      ],
      "execution_count": 3,
      "outputs": []
    },
    {
      "cell_type": "markdown",
      "metadata": {
        "id": "vb3nTUu_W2v1"
      },
      "source": [
        "**Alternative 2:**\r\n",
        "\r\n",
        "If we want to apply a function that returns today's date. For this purpose we need to apply the datetime library.\r\n",
        "\r\n",
        " We can then specify the time intervals as follows:"
      ]
    },
    {
      "cell_type": "code",
      "metadata": {
        "id": "RDbYVoJ1X3pj"
      },
      "source": [
        "start = dt.datetime(2015, 1, 1)\r\n",
        "end = dt.datetime.now()"
      ],
      "execution_count": 4,
      "outputs": []
    },
    {
      "cell_type": "markdown",
      "metadata": {
        "id": "U7XhK9Y9YLk1"
      },
      "source": [
        "We will now specify a list of tickers, for which we will download the stock prices"
      ]
    },
    {
      "cell_type": "code",
      "metadata": {
        "id": "9z3UgbdhYUY6"
      },
      "source": [
        "tickers = [\"AAPL\", 'AMZN', \"FB\", \"GOOG\", 'MCD', 'MSFT', 'TSLA']"
      ],
      "execution_count": 5,
      "outputs": []
    },
    {
      "cell_type": "markdown",
      "metadata": {
        "id": "pSqJb_NMYlYI"
      },
      "source": [
        "Now we will download all tickers into a pandas dataframe. For this purpose we apply the pandas_datareader library"
      ]
    },
    {
      "cell_type": "code",
      "metadata": {
        "id": "ATRQEs1zY-vF"
      },
      "source": [
        "df = pdr.get_data_yahoo(tickers, start, end)[\"Adj Close\"]"
      ],
      "execution_count": 6,
      "outputs": []
    },
    {
      "cell_type": "markdown",
      "metadata": {
        "id": "GgVeVKzRZFHE"
      },
      "source": [
        "Let us have a look how this data frame looks like:"
      ]
    },
    {
      "cell_type": "code",
      "metadata": {
        "colab": {
          "base_uri": "https://localhost:8080/",
          "height": 136
        },
        "id": "mpnmPK7GZMKj",
        "outputId": "84f0a967-5611-4c39-e38f-8ad298d4bc86"
      },
      "source": [
        "df.head(2)"
      ],
      "execution_count": 7,
      "outputs": [
        {
          "output_type": "execute_result",
          "data": {
            "text/html": [
              "<div>\n",
              "<style scoped>\n",
              "    .dataframe tbody tr th:only-of-type {\n",
              "        vertical-align: middle;\n",
              "    }\n",
              "\n",
              "    .dataframe tbody tr th {\n",
              "        vertical-align: top;\n",
              "    }\n",
              "\n",
              "    .dataframe thead th {\n",
              "        text-align: right;\n",
              "    }\n",
              "</style>\n",
              "<table border=\"1\" class=\"dataframe\">\n",
              "  <thead>\n",
              "    <tr style=\"text-align: right;\">\n",
              "      <th>Symbols</th>\n",
              "      <th>AAPL</th>\n",
              "      <th>AMZN</th>\n",
              "      <th>FB</th>\n",
              "      <th>GOOG</th>\n",
              "      <th>MCD</th>\n",
              "      <th>MSFT</th>\n",
              "      <th>TSLA</th>\n",
              "    </tr>\n",
              "    <tr>\n",
              "      <th>Date</th>\n",
              "      <th></th>\n",
              "      <th></th>\n",
              "      <th></th>\n",
              "      <th></th>\n",
              "      <th></th>\n",
              "      <th></th>\n",
              "      <th></th>\n",
              "    </tr>\n",
              "  </thead>\n",
              "  <tbody>\n",
              "    <tr>\n",
              "      <th>2015-01-02</th>\n",
              "      <td>24.861401</td>\n",
              "      <td>308.519989</td>\n",
              "      <td>78.449997</td>\n",
              "      <td>523.373108</td>\n",
              "      <td>78.733566</td>\n",
              "      <td>41.443684</td>\n",
              "      <td>43.862000</td>\n",
              "    </tr>\n",
              "    <tr>\n",
              "      <th>2015-01-05</th>\n",
              "      <td>24.161013</td>\n",
              "      <td>302.190002</td>\n",
              "      <td>77.190002</td>\n",
              "      <td>512.463013</td>\n",
              "      <td>77.863998</td>\n",
              "      <td>41.062580</td>\n",
              "      <td>42.018002</td>\n",
              "    </tr>\n",
              "  </tbody>\n",
              "</table>\n",
              "</div>"
            ],
            "text/plain": [
              "Symbols          AAPL        AMZN         FB  ...        MCD       MSFT       TSLA\n",
              "Date                                          ...                                 \n",
              "2015-01-02  24.861401  308.519989  78.449997  ...  78.733566  41.443684  43.862000\n",
              "2015-01-05  24.161013  302.190002  77.190002  ...  77.863998  41.062580  42.018002\n",
              "\n",
              "[2 rows x 7 columns]"
            ]
          },
          "metadata": {
            "tags": []
          },
          "execution_count": 7
        }
      ]
    },
    {
      "cell_type": "code",
      "metadata": {
        "colab": {
          "base_uri": "https://localhost:8080/",
          "height": 136
        },
        "id": "U70TpA6RZWIy",
        "outputId": "1792cdf4-0c98-43d7-cac4-bd3ee72fad1b"
      },
      "source": [
        "df.tail(2)"
      ],
      "execution_count": 8,
      "outputs": [
        {
          "output_type": "execute_result",
          "data": {
            "text/html": [
              "<div>\n",
              "<style scoped>\n",
              "    .dataframe tbody tr th:only-of-type {\n",
              "        vertical-align: middle;\n",
              "    }\n",
              "\n",
              "    .dataframe tbody tr th {\n",
              "        vertical-align: top;\n",
              "    }\n",
              "\n",
              "    .dataframe thead th {\n",
              "        text-align: right;\n",
              "    }\n",
              "</style>\n",
              "<table border=\"1\" class=\"dataframe\">\n",
              "  <thead>\n",
              "    <tr style=\"text-align: right;\">\n",
              "      <th>Symbols</th>\n",
              "      <th>AAPL</th>\n",
              "      <th>AMZN</th>\n",
              "      <th>FB</th>\n",
              "      <th>GOOG</th>\n",
              "      <th>MCD</th>\n",
              "      <th>MSFT</th>\n",
              "      <th>TSLA</th>\n",
              "    </tr>\n",
              "    <tr>\n",
              "      <th>Date</th>\n",
              "      <th></th>\n",
              "      <th></th>\n",
              "      <th></th>\n",
              "      <th></th>\n",
              "      <th></th>\n",
              "      <th></th>\n",
              "      <th></th>\n",
              "    </tr>\n",
              "  </thead>\n",
              "  <tbody>\n",
              "    <tr>\n",
              "      <th>2021-02-25</th>\n",
              "      <td>120.989998</td>\n",
              "      <td>3057.159912</td>\n",
              "      <td>254.690002</td>\n",
              "      <td>2031.359985</td>\n",
              "      <td>209.659988</td>\n",
              "      <td>228.990005</td>\n",
              "      <td>682.219971</td>\n",
              "    </tr>\n",
              "    <tr>\n",
              "      <th>2021-02-26</th>\n",
              "      <td>121.260002</td>\n",
              "      <td>3092.929932</td>\n",
              "      <td>257.619995</td>\n",
              "      <td>2036.859985</td>\n",
              "      <td>206.139999</td>\n",
              "      <td>232.380005</td>\n",
              "      <td>675.500000</td>\n",
              "    </tr>\n",
              "  </tbody>\n",
              "</table>\n",
              "</div>"
            ],
            "text/plain": [
              "Symbols           AAPL         AMZN  ...        MSFT        TSLA\n",
              "Date                                 ...                        \n",
              "2021-02-25  120.989998  3057.159912  ...  228.990005  682.219971\n",
              "2021-02-26  121.260002  3092.929932  ...  232.380005  675.500000\n",
              "\n",
              "[2 rows x 7 columns]"
            ]
          },
          "metadata": {
            "tags": []
          },
          "execution_count": 8
        }
      ]
    },
    {
      "cell_type": "markdown",
      "metadata": {
        "id": "m61f9S4VZbM_"
      },
      "source": [
        "In the following we compute the returns of the assets (stocks). We can here apply the pct_change (percentage change) function."
      ]
    },
    {
      "cell_type": "code",
      "metadata": {
        "id": "ywEyPjdiZfYu"
      },
      "source": [
        "Returns=df.pct_change()"
      ],
      "execution_count": 9,
      "outputs": []
    },
    {
      "cell_type": "markdown",
      "metadata": {
        "id": "CGJcdGuZZlGf"
      },
      "source": [
        "Now I will save this data frame as a CSV file"
      ]
    },
    {
      "cell_type": "code",
      "metadata": {
        "id": "cNIJNhzUZtoF"
      },
      "source": [
        "Returns.to_csv('Stock_Returns.csv')"
      ],
      "execution_count": 10,
      "outputs": []
    },
    {
      "cell_type": "markdown",
      "metadata": {
        "id": "51sHE5tXcz01"
      },
      "source": [
        "It is also possible to save the file driectly as an Excel file."
      ]
    },
    {
      "cell_type": "code",
      "metadata": {
        "id": "7wZRllKoc4QM"
      },
      "source": [
        "Returns.to_excel('Stock_Returns.xlsx')"
      ],
      "execution_count": 11,
      "outputs": []
    },
    {
      "cell_type": "markdown",
      "metadata": {
        "id": "eYqoaedNcnnM"
      },
      "source": [
        "With the following line, we can download the data to the computer."
      ]
    },
    {
      "cell_type": "code",
      "metadata": {
        "colab": {
          "base_uri": "https://localhost:8080/",
          "height": 17
        },
        "id": "r6GZhLUHbzlS",
        "outputId": "a6b6a2f8-6bda-4fef-aed8-c90e2471c9b3"
      },
      "source": [
        "files.download('Stock_Returns.csv')"
      ],
      "execution_count": 12,
      "outputs": [
        {
          "output_type": "display_data",
          "data": {
            "application/javascript": [
              "\n",
              "    async function download(id, filename, size) {\n",
              "      if (!google.colab.kernel.accessAllowed) {\n",
              "        return;\n",
              "      }\n",
              "      const div = document.createElement('div');\n",
              "      const label = document.createElement('label');\n",
              "      label.textContent = `Downloading \"${filename}\": `;\n",
              "      div.appendChild(label);\n",
              "      const progress = document.createElement('progress');\n",
              "      progress.max = size;\n",
              "      div.appendChild(progress);\n",
              "      document.body.appendChild(div);\n",
              "\n",
              "      const buffers = [];\n",
              "      let downloaded = 0;\n",
              "\n",
              "      const channel = await google.colab.kernel.comms.open(id);\n",
              "      // Send a message to notify the kernel that we're ready.\n",
              "      channel.send({})\n",
              "\n",
              "      for await (const message of channel.messages) {\n",
              "        // Send a message to notify the kernel that we're ready.\n",
              "        channel.send({})\n",
              "        if (message.buffers) {\n",
              "          for (const buffer of message.buffers) {\n",
              "            buffers.push(buffer);\n",
              "            downloaded += buffer.byteLength;\n",
              "            progress.value = downloaded;\n",
              "          }\n",
              "        }\n",
              "      }\n",
              "      const blob = new Blob(buffers, {type: 'application/binary'});\n",
              "      const a = document.createElement('a');\n",
              "      a.href = window.URL.createObjectURL(blob);\n",
              "      a.download = filename;\n",
              "      div.appendChild(a);\n",
              "      a.click();\n",
              "      div.remove();\n",
              "    }\n",
              "  "
            ],
            "text/plain": [
              "<IPython.core.display.Javascript object>"
            ]
          },
          "metadata": {
            "tags": []
          }
        },
        {
          "output_type": "display_data",
          "data": {
            "application/javascript": [
              "download(\"download_214dbbb9-6975-490e-9b8e-253c4b8feb47\", \"Stock_Returns.csv\", 249143)"
            ],
            "text/plain": [
              "<IPython.core.display.Javascript object>"
            ]
          },
          "metadata": {
            "tags": []
          }
        }
      ]
    },
    {
      "cell_type": "code",
      "metadata": {
        "colab": {
          "base_uri": "https://localhost:8080/",
          "height": 17
        },
        "id": "fXURGVrTdA_v",
        "outputId": "098b1fc9-8d6a-4872-a990-7613dd8e1daa"
      },
      "source": [
        "files.download('Stock_Returns.xlsx')"
      ],
      "execution_count": 13,
      "outputs": [
        {
          "output_type": "display_data",
          "data": {
            "application/javascript": [
              "\n",
              "    async function download(id, filename, size) {\n",
              "      if (!google.colab.kernel.accessAllowed) {\n",
              "        return;\n",
              "      }\n",
              "      const div = document.createElement('div');\n",
              "      const label = document.createElement('label');\n",
              "      label.textContent = `Downloading \"${filename}\": `;\n",
              "      div.appendChild(label);\n",
              "      const progress = document.createElement('progress');\n",
              "      progress.max = size;\n",
              "      div.appendChild(progress);\n",
              "      document.body.appendChild(div);\n",
              "\n",
              "      const buffers = [];\n",
              "      let downloaded = 0;\n",
              "\n",
              "      const channel = await google.colab.kernel.comms.open(id);\n",
              "      // Send a message to notify the kernel that we're ready.\n",
              "      channel.send({})\n",
              "\n",
              "      for await (const message of channel.messages) {\n",
              "        // Send a message to notify the kernel that we're ready.\n",
              "        channel.send({})\n",
              "        if (message.buffers) {\n",
              "          for (const buffer of message.buffers) {\n",
              "            buffers.push(buffer);\n",
              "            downloaded += buffer.byteLength;\n",
              "            progress.value = downloaded;\n",
              "          }\n",
              "        }\n",
              "      }\n",
              "      const blob = new Blob(buffers, {type: 'application/binary'});\n",
              "      const a = document.createElement('a');\n",
              "      a.href = window.URL.createObjectURL(blob);\n",
              "      a.download = filename;\n",
              "      div.appendChild(a);\n",
              "      a.click();\n",
              "      div.remove();\n",
              "    }\n",
              "  "
            ],
            "text/plain": [
              "<IPython.core.display.Javascript object>"
            ]
          },
          "metadata": {
            "tags": []
          }
        },
        {
          "output_type": "display_data",
          "data": {
            "application/javascript": [
              "download(\"download_de7811d8-87d3-49c2-ae1a-294d944cce59\", \"Stock_Returns.xlsx\", 158896)"
            ],
            "text/plain": [
              "<IPython.core.display.Javascript object>"
            ]
          },
          "metadata": {
            "tags": []
          }
        }
      ]
    }
  ]
}
