{
 "cells": [
  {
   "cell_type": "markdown",
   "id": "adjacent-winter",
   "metadata": {},
   "source": [
    "# Solving a two-asset portfolio optimization model with SciPy"
   ]
  },
  {
   "cell_type": "markdown",
   "id": "tight-updating",
   "metadata": {},
   "source": [
    "A portfolio optimization problem can be presented by the following optimization problem. This is a nonlinear (quadratic) optimization problem:\n",
    "$$\n",
    "\\begin{equation}\n",
    "\\begin{array}\n",
    "\\displaystyle \\min_{x_1,x_2} & \\sigma_1^2 \\cdot x_1^2 + \\sigma_2^2 \\cdot x_2^2 + 2 \\cdot x_1 \\cdot x_2 \\cdot \\sigma_{12} \\\\\n",
    "\\textrm{s.t.}                & x_1 + x_2 = 1 \\\\\n",
    "                             & r_1 \\cdot x_1 + r_2 \\cdot x_2 \\geq r_\\text{Target} \\\\\n",
    "                             & x_1 \\geq 0, x_2 \\geq 0 \\\\\n",
    "\\end{array}\n",
    "\\end{equation}\n",
    "$$\n",
    "\n",
    "Here $\\sigma_1^2$ and $\\sigma_2^2$ are the variances of the returns of assets #1 and #2, $x_1$ and $x_2$ are the weights of the assets in the portfolio, $r_1$ and $r_2$ are the expected asset returns, $\\sigma_{12}$ is the covariance between the returns of the two assets, and $r_\\text{Target}$ is the target expected return of the portfolio.\n",
    "\n",
    "\n",
    "We will use the following input data: $\\sigma_1=0.1$, $\\sigma_2=0.13$, $\\sigma_{12}=0.001$, $r_1=0.15$, $r_2=0.2$ and $r_\\text{Target}=0.18$. **Note** that we here have specified the standard deviations $\\sigma_1$ and $\\sigma_2$,\n",
    "\n",
    "With these numbers the problem is the following:\n",
    "\n",
    "$$\n",
    "\\begin{equation}\n",
    "\\begin{array}\n",
    "\\displaystyle \\min_{x_1,x_2} & 0.1^2 \\cdot x_1^2 + 0.13^2 \\cdot x_2^2 + 2 \\cdot x_1 \\cdot x_2 \\cdot 0.001 \\\\\n",
    "\\textrm{s.t.}                & x_1 + x_2 = 1 \\\\\n",
    "                             & 0.15 \\cdot x_1 + 0.20 \\cdot x_2 \\geq 0.18 \\\\\n",
    "                             & x_1 \\geq 0, x_2 \\geq 0 \\\\\n",
    "\\end{array}\n",
    "\\end{equation}\n",
    "$$\n",
    "\n",
    "We will use the `SciPy` (Scientific Python) library. And from this library we will use the `optimize` module, and more particularly the `minimize` submodul/function. If you do not have the `SciPy` package from before, then you can install it by running the following code:'\n",
    "```\n",
    "! pip install scipy\n",
    "```"
   ]
  },
  {
   "cell_type": "markdown",
   "id": "north-anchor",
   "metadata": {},
   "source": [
    "Let us now import the relevant modules from this library:"
   ]
  },
  {
   "cell_type": "code",
   "execution_count": 1,
   "id": "handled-cliff",
   "metadata": {},
   "outputs": [],
   "source": [
    "from scipy.optimize import minimize\n",
    "import numpy as np"
   ]
  },
  {
   "cell_type": "markdown",
   "id": "grand-unemployment",
   "metadata": {},
   "source": [
    "Let us here define the parameters."
   ]
  },
  {
   "cell_type": "code",
   "execution_count": 2,
   "id": "oriental-separation",
   "metadata": {},
   "outputs": [],
   "source": [
    "p = [0.10, 0.13, 0.001, 0.15, 0.20, 0.18, 1.0]"
   ]
  },
  {
   "cell_type": "markdown",
   "id": "soviet-yesterday",
   "metadata": {},
   "source": [
    "Let us also have a look what the datatype is:"
   ]
  },
  {
   "cell_type": "code",
   "execution_count": 3,
   "id": "absent-poison",
   "metadata": {},
   "outputs": [
    {
     "data": {
      "text/plain": [
       "list"
      ]
     },
     "execution_count": 3,
     "metadata": {},
     "output_type": "execute_result"
    }
   ],
   "source": [
    "type(p)"
   ]
  },
  {
   "cell_type": "markdown",
   "id": "parliamentary-honey",
   "metadata": {},
   "source": [
    "Now we will create our model, which consists of the objective function and two constraints."
   ]
  },
  {
   "cell_type": "code",
   "execution_count": 4,
   "id": "ordinary-longitude",
   "metadata": {},
   "outputs": [],
   "source": [
    "def objective(x, p):\n",
    "    return p[0]**2*x[0]**2 + p[1]**2*x[1]**2  + 2*p[2]*x[0]*x[1]"
   ]
  },
  {
   "cell_type": "markdown",
   "id": "golden-breeding",
   "metadata": {},
   "source": [
    "The budget (total weights) constraint:"
   ]
  },
  {
   "cell_type": "code",
   "execution_count": 5,
   "id": "similar-dryer",
   "metadata": {},
   "outputs": [],
   "source": [
    "def leftside_1(x,p):\n",
    "    return x[0]+x[1]-p[6]"
   ]
  },
  {
   "cell_type": "markdown",
   "id": "efficient-analyst",
   "metadata": {},
   "source": [
    "The target return constraint:"
   ]
  },
  {
   "cell_type": "code",
   "execution_count": 6,
   "id": "detected-north",
   "metadata": {},
   "outputs": [],
   "source": [
    "def leftside_2(x,p):\n",
    "    return p[3]*x[0] + p[4]*x[1] - p[5]"
   ]
  },
  {
   "cell_type": "markdown",
   "id": "higher-dating",
   "metadata": {},
   "source": [
    "In SciPy the constraints need to be defined in the form of a dictionary.\n",
    "\n",
    "**Note** that the inequality cosntraint is of type **$ \\geq $** in SciPy."
   ]
  },
  {
   "cell_type": "markdown",
   "id": "choice-miami",
   "metadata": {},
   "source": [
    "The following construction is slightly non-intuitive, because we have to write `'args': (p,)` insteead of `'args': p`. However, SciPy will complain that it receives two many parameters, if we do not explicitely instruct that args is a tuple.\n",
    "Even if we had defined `p` as a tuple in the first place, like: `p = (1, 5, 7, 9, 3)`, it would not work."
   ]
  },
  {
   "cell_type": "code",
   "execution_count": 7,
   "id": "geographic-schema",
   "metadata": {},
   "outputs": [],
   "source": [
    "constraint_1=({'type': 'eq', 'fun': leftside_1, 'args': (p,)})"
   ]
  },
  {
   "cell_type": "code",
   "execution_count": 8,
   "id": "willing-baltimore",
   "metadata": {},
   "outputs": [],
   "source": [
    "constraint_2=({'type': 'ineq', 'fun': leftside_2, 'args': (p,)})"
   ]
  },
  {
   "cell_type": "code",
   "execution_count": 9,
   "id": "opened-swiss",
   "metadata": {},
   "outputs": [
    {
     "name": "stdout",
     "output_type": "stream",
     "text": [
      "([0.1, 0.13, 0.001, 0.15, 0.2, 0.18, 1.0],)\n"
     ]
    }
   ],
   "source": [
    "print((p,))"
   ]
  },
  {
   "cell_type": "code",
   "execution_count": 10,
   "id": "behavioral-manufacturer",
   "metadata": {},
   "outputs": [],
   "source": [
    "constraints = [constraint_1, constraint_2]"
   ]
  },
  {
   "cell_type": "markdown",
   "id": "invalid-settle",
   "metadata": {},
   "source": [
    "Let us just run these function and see what they produce:"
   ]
  },
  {
   "cell_type": "code",
   "execution_count": 11,
   "id": "surface-assembly",
   "metadata": {},
   "outputs": [],
   "source": [
    "x0 = [1, 0]"
   ]
  },
  {
   "cell_type": "code",
   "execution_count": 12,
   "id": "filled-liver",
   "metadata": {},
   "outputs": [
    {
     "name": "stdout",
     "output_type": "stream",
     "text": [
      "the objective value is 0.010000000000000002\n",
      "the value of constraint 1 is 0.0\n",
      "the value of constraint 2 is -0.03\n"
     ]
    }
   ],
   "source": [
    "print(\"the objective value is \" + str(objective(x0,p)))\n",
    "print(\"the value of constraint 1 is \" + str(leftside_1(x0,p)))\n",
    "print(\"the value of constraint 2 is \" + str(leftside_2(x0,p)))"
   ]
  },
  {
   "cell_type": "markdown",
   "id": "north-portable",
   "metadata": {},
   "source": [
    "I make a numpy array from the tuple p."
   ]
  },
  {
   "cell_type": "code",
   "execution_count": 13,
   "id": "instructional-instrument",
   "metadata": {},
   "outputs": [],
   "source": [
    "p0=np.array(p)"
   ]
  },
  {
   "cell_type": "code",
   "execution_count": 14,
   "id": "becoming-prevention",
   "metadata": {},
   "outputs": [],
   "source": [
    "results=minimize(objective, x0, args=p, method='SLSQP', constraints=constraints)"
   ]
  },
  {
   "cell_type": "code",
   "execution_count": 15,
   "id": "suited-accordance",
   "metadata": {},
   "outputs": [
    {
     "name": "stdout",
     "output_type": "stream",
     "text": [
      "     fun: 0.008164000159323217\n",
      "     jac: array([0.0092 , 0.02108])\n",
      " message: 'Optimization terminated successfully'\n",
      "    nfev: 6\n",
      "     nit: 2\n",
      "    njev: 2\n",
      "  status: 0\n",
      " success: True\n",
      "       x: array([0.39999999, 0.60000001])\n"
     ]
    }
   ],
   "source": [
    "print(results)"
   ]
  },
  {
   "cell_type": "markdown",
   "id": "decent-journey",
   "metadata": {},
   "source": [
    "Let us assign the solution and calculate the portfolio return."
   ]
  },
  {
   "cell_type": "code",
   "execution_count": 16,
   "id": "consolidated-blame",
   "metadata": {},
   "outputs": [],
   "source": [
    "x = results['x']"
   ]
  },
  {
   "cell_type": "code",
   "execution_count": 17,
   "id": "serial-heather",
   "metadata": {},
   "outputs": [
    {
     "name": "stdout",
     "output_type": "stream",
     "text": [
      "The optimal weights are  [0.39999999 0.60000001]\n",
      "The expected portfolio return is:  0.18000000067055225\n",
      "The portfolio variance is:  0.008164000159323217\n"
     ]
    }
   ],
   "source": [
    "print(\"The optimal weights are \", x)\n",
    "PortfReturn=x[0]*p[3]+x[1]*p[4]\n",
    "print(\"The expected portfolio return is: \",PortfReturn) \n",
    "print(\"The portfolio variance is: \", objective(x, p))"
   ]
  },
  {
   "cell_type": "markdown",
   "id": "molecular-unemployment",
   "metadata": {},
   "source": [
    "**THE END**"
   ]
  }
 ],
 "metadata": {
  "kernelspec": {
   "display_name": "Python 3",
   "language": "python",
   "name": "python3"
  },
  "language_info": {
   "codemirror_mode": {
    "name": "ipython",
    "version": 3
   },
   "file_extension": ".py",
   "mimetype": "text/x-python",
   "name": "python",
   "nbconvert_exporter": "python",
   "pygments_lexer": "ipython3",
   "version": "3.9.2"
  }
 },
 "nbformat": 4,
 "nbformat_minor": 5
}
