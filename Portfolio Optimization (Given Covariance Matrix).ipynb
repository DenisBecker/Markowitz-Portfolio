{
 "cells": [
  {
   "cell_type": "markdown",
   "id": "heard-ordinary",
   "metadata": {},
   "source": [
    "# Solving a Markowitz Portfolio Optimization Problem with SciPy\n",
    "\n",
    "A Portfolio optimization problem can be presented by the following optimization problem:\n",
    "$$\n",
    "\\begin{equation}\n",
    "\\begin{array}\n",
    "\\displaystyle \\min\\limits_\\mathbf{x} & \\sigma_\\text{Portfolio}^2=\\mathbf{x} \\cdot \\mathbf{C} \\cdot \\mathbf{x}^\\text{T} \\\\\n",
    "\\textrm{s.t.}                & \\sum_{i=1}^{N} x_i  = 1 \\\\\n",
    "                             & \\mathbf{x} \\cdot \\mathbf{r}^\\text{T} \\geq r_\\text{Target} \\\\\n",
    "                             & \\mathbf{x} \\geq \\mathbf{0} \\\\\n",
    "\\end{array}\n",
    "\\end{equation}\n",
    "$$\n",
    "Here $\\mathbf{C}$ is the covariance matrix, $\\mathbf{x}$ are the weights of the stocks or assets in the portfolio, $\\sigma_\\text{Portfolio}^2$ is the portfolio variance, $r$ represents the expected returns of the stocks/assets, and $r_\\text{Target}$ is the return target.\n",
    "\n",
    "\n",
    "We will use the `SciPy` (Scientific Python) library. And from this library we will use the `optimize` module, and more particularly the `minimize` submodul/function. If you do not have the `SciPy` package from before, then you can install it by running the following code:\n",
    "\n",
    "```\n",
    "! pip install scipy\n",
    "```\n"
   ]
  },
  {
   "cell_type": "markdown",
   "id": "innocent-vegetable",
   "metadata": {},
   "source": [
    "Let us now import the relevant modules/packages. In addition to `SciPy` we will use `NumPy` for dealing with vectors (arrays) and (matrices)."
   ]
  },
  {
   "cell_type": "code",
   "execution_count": 1,
   "id": "living-veteran",
   "metadata": {},
   "outputs": [],
   "source": [
    "from scipy.optimize import minimize\n",
    "import numpy as np"
   ]
  },
  {
   "cell_type": "markdown",
   "id": "appointed-chapter",
   "metadata": {},
   "source": [
    "Let us here define the variables and parameters that are used."
   ]
  },
  {
   "cell_type": "code",
   "execution_count": 33,
   "id": "dying-panic",
   "metadata": {},
   "outputs": [],
   "source": [
    "x = np.random.rand(3)\n",
    "r = np.array([0.10, 0.25, 0.20])\n",
    "C = np.matrix([[0.14, 0.12, 0.08], [0.12, 0.17, 0.18], [0.08, 0.18, 0.25]])\n",
    "target = 0.14"
   ]
  },
  {
   "cell_type": "markdown",
   "id": "divided-reservoir",
   "metadata": {},
   "source": [
    "Let us first define our objective function:"
   ]
  },
  {
   "cell_type": "code",
   "execution_count": 29,
   "id": "suburban-march",
   "metadata": {},
   "outputs": [],
   "source": [
    "def objective(x,C):\n",
    "    portvar=x@C@x\n",
    "    # Alternatively, we can use: portvar=np.dot(np.dot(x,C),x)\n",
    "    return portvar[0,0]"
   ]
  },
  {
   "cell_type": "markdown",
   "id": "roman-reality",
   "metadata": {},
   "source": [
    "Now we define the constraint which will asure that all the weights add to 100 %:"
   ]
  },
  {
   "cell_type": "code",
   "execution_count": 30,
   "id": "sapphire-sociology",
   "metadata": {},
   "outputs": [],
   "source": [
    "def budget(x):\n",
    "    return sum(x)-1"
   ]
  },
  {
   "cell_type": "markdown",
   "id": "political-german",
   "metadata": {},
   "source": [
    "Now we will define the constraint for the return target:"
   ]
  },
  {
   "cell_type": "code",
   "execution_count": 31,
   "id": "egyptian-oliver",
   "metadata": {},
   "outputs": [],
   "source": [
    "def targetReturn(x,r,target):\n",
    "    return x@r-target"
   ]
  },
  {
   "cell_type": "markdown",
   "id": "clear-steering",
   "metadata": {},
   "source": [
    "Let us qickly check if the calculations are reasonable. "
   ]
  },
  {
   "cell_type": "code",
   "execution_count": 34,
   "id": "black-karen",
   "metadata": {},
   "outputs": [
    {
     "name": "stdout",
     "output_type": "stream",
     "text": [
      "The objective value is  0.10163808280498575\n",
      "The budget deviation is  -0.21057084368553858\n",
      "The deviation from the target return is  0.03124697562490461\n"
     ]
    }
   ],
   "source": [
    "print(\"The objective value is \", objective(x,C))\n",
    "print(\"The budget deviation is \", budget(x))\n",
    "print(\"The deviation from the target return is \", targetReturn(x,r,target))"
   ]
  },
  {
   "cell_type": "markdown",
   "id": "pregnant-daisy",
   "metadata": {},
   "source": [
    "The constraints need to be defined like a dictionary. **Note** that we have to specify which of the input parameters to the functions are not decision variables. Pure parameters are specified by args. Here this needs to be done for the contraints, and below it will be done for all the parameters in the objective function."
   ]
  },
  {
   "cell_type": "code",
   "execution_count": 36,
   "id": "received-monthly",
   "metadata": {},
   "outputs": [],
   "source": [
    "constraint_1 = {\"type\": \"eq\", \"fun\": budget}\n",
    "constraint_2 = {\"type\": \"ineq\", 'fun': targetReturn, \"args\": (r,target)}"
   ]
  },
  {
   "cell_type": "markdown",
   "id": "potential-murray",
   "metadata": {},
   "source": [
    "Now we will join these two constraints into one array:"
   ]
  },
  {
   "cell_type": "code",
   "execution_count": 37,
   "id": "steady-theta",
   "metadata": {},
   "outputs": [],
   "source": [
    "constraints=[constraint_1, constraint_2]"
   ]
  },
  {
   "cell_type": "markdown",
   "id": "split-analyst",
   "metadata": {},
   "source": [
    "In the case that short sales are not allowed, the weights should be non-negative. Let us therefore add a bound on $\\mathbf{x}$:"
   ]
  },
  {
   "cell_type": "code",
   "execution_count": 39,
   "id": "brutal-throat",
   "metadata": {},
   "outputs": [],
   "source": [
    "# bounds = [(-np.inf, np.inf) for i in x]  # Short Sales allowed.\n",
    "bounds = [(0, np.inf) for i in x]  # Short sales not allowed."
   ]
  },
  {
   "cell_type": "markdown",
   "id": "framed-factory",
   "metadata": {},
   "source": [
    "Now we will solve the problem:"
   ]
  },
  {
   "cell_type": "code",
   "execution_count": 41,
   "id": "danish-swiss",
   "metadata": {},
   "outputs": [],
   "source": [
    "result = minimize(objective, x, method='SLSQP', args=C, bounds=bounds, constraints=constraints)"
   ]
  },
  {
   "cell_type": "markdown",
   "id": "objective-symphony",
   "metadata": {},
   "source": [
    "Now we will print the results."
   ]
  },
  {
   "cell_type": "code",
   "execution_count": 11,
   "id": "given-reasoning",
   "metadata": {},
   "outputs": [
    {
     "name": "stdout",
     "output_type": "stream",
     "text": [
      "     fun: 0.12704175824015568\n",
      "     jac: array([0.2443077 , 0.28096704, 0.26874726])\n",
      " message: 'Optimization terminated successfully'\n",
      "    nfev: 32\n",
      "     nit: 8\n",
      "    njev: 8\n",
      "  status: 0\n",
      " success: True\n",
      "       x: array([0.64395604, 0.08791209, 0.26813187])\n"
     ]
    }
   ],
   "source": [
    "print(result)"
   ]
  },
  {
   "cell_type": "markdown",
   "id": "popular-venice",
   "metadata": {},
   "source": [
    "Now we will assign the weights, and print the solution:"
   ]
  },
  {
   "cell_type": "code",
   "execution_count": 12,
   "id": "thousand-operations",
   "metadata": {},
   "outputs": [],
   "source": [
    "x=result['x']"
   ]
  },
  {
   "cell_type": "code",
   "execution_count": 13,
   "id": "modern-counter",
   "metadata": {},
   "outputs": [
    {
     "name": "stdout",
     "output_type": "stream",
     "text": [
      "The optimal weights are [0.64395604 0.08791209 0.26813187]\n",
      "The expected potfolio return is  0.13999999999344273\n",
      "The portfolio variance is  0.12704175824015568\n"
     ]
    }
   ],
   "source": [
    "print(\"The optimal weights are\", x)\n",
    "print(\"The expected potfolio return is \", x@r)\n",
    "print(\"The portfolio variance is \", objective(x,C))"
   ]
  },
  {
   "cell_type": "markdown",
   "id": "realistic-birthday",
   "metadata": {},
   "source": [
    "# THE END"
   ]
  }
 ],
 "metadata": {
  "kernelspec": {
   "display_name": "Python 3",
   "language": "python",
   "name": "python3"
  },
  "language_info": {
   "codemirror_mode": {
    "name": "ipython",
    "version": 3
   },
   "file_extension": ".py",
   "mimetype": "text/x-python",
   "name": "python",
   "nbconvert_exporter": "python",
   "pygments_lexer": "ipython3",
   "version": "3.9.2"
  }
 },
 "nbformat": 4,
 "nbformat_minor": 5
}
